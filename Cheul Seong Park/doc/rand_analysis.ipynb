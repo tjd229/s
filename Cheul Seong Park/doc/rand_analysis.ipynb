{
 "cells": [
  {
   "cell_type": "markdown",
   "metadata": {},
   "source": [
    "# Case 1\n",
    "* 0~9 100개의 난수 생성\n",
    "* 그래프는 난수에 의해 생성된 0~9가 몇 개인지를 나타냄"
   ]
  },
  {
   "cell_type": "code",
   "execution_count": 63,
   "metadata": {
    "collapsed": false
   },
   "outputs": [
    {
     "name": "stdout",
     "output_type": "stream",
     "text": [
      "[9, 7, 10, 11, 13, 7, 8, 14, 11, 10]\n"
     ]
    },
    {
     "data": {
      "image/png": "[encoded data removed]",
      "text/plain": [
       "<matplotlib.figure.Figure at 0x9a42da0>"
      ]
     },
     "metadata": {},
     "output_type": "display_data"
    }
   ],
   "source": [
    "import random\n",
    "import numpy as np\n",
    "import matplotlib\n",
    "import matplotlib.pyplot as plt\n",
    "%matplotlib inline\n",
    "\n",
    "a=[]\n",
    "N=100\n",
    "sum=0\n",
    "sd=0\n",
    "for i in range(10):\n",
    "    a.append(0)\n",
    "for i in range(N):\n",
    "    n=int(random.random()*10)\n",
    "    a[n]+=1\n",
    "    \n",
    "for i in range(10):\n",
    "    sum+=a[i]\n",
    "sum/=10\n",
    "\n",
    "for i in range(10):\n",
    "    sd+=(a[i]-sum)**2\n",
    "sd/=10\n",
    "sd=sd**0.5\n",
    "\n",
    "print a\n",
    "\n",
    "##fig=plt.figure()\n",
    "arr=np.arange(10)\n",
    "plt.plot(arr,a)\n",
    "#plt.axis([0,10,90000,110000])\n",
    "plt.show()\n",
    "#print \"Standard deviation: %f\"%sd"
   ]
  },
  {
   "cell_type": "markdown",
   "metadata": {},
   "source": [
    "# Case 2\n",
    "* 0~9 1,000,000개 난수 생성\n",
    "* 그래프는 난수에 의해 생성된 0~9가 몇 개인지를 나타냄"
   ]
  },
  {
   "cell_type": "code",
   "execution_count": 62,
   "metadata": {
    "collapsed": false
   },
   "outputs": [
    {
     "name": "stdout",
     "output_type": "stream",
     "text": [
      "[99944, 100076, 99655, 100040, 99795, 101054, 99958, 99880, 99782, 99816]\n"
     ]
    },
    {
     "data": {
      "image/png": "[encoded data removed]",
      "text/plain": [
       "<matplotlib.figure.Figure at 0x8f46390>"
      ]
     },
     "metadata": {},
     "output_type": "display_data"
    }
   ],
   "source": [
    "import random\n",
    "import numpy as np\n",
    "import matplotlib\n",
    "import matplotlib.pyplot as plt\n",
    "%matplotlib inline\n",
    "\n",
    "a=[]\n",
    "N=1000000\n",
    "\n",
    "sum=0\n",
    "sd=0\n",
    "for i in range(10):\n",
    "    a.append(0)\n",
    "for i in range(N):\n",
    "    n=int(random.random()*10)\n",
    "    a[n]+=1\n",
    "    \n",
    "for i in range(10):\n",
    "    sum+=a[i]\n",
    "sum/=10\n",
    "\n",
    "for i in range(10):\n",
    "    sd+=(a[i]-sum)**2\n",
    "sd/=10\n",
    "sd=sd**0.5\n",
    "\n",
    "print a\n",
    "\n",
    "##fig=plt.figure()\n",
    "arr=np.arange(10)\n",
    "plt.plot(arr,a)\n",
    "plt.axis([0,10,90000,110000])\n",
    "plt.show()\n",
    "#print \"Standard deviation: %f\"%sd"
   ]
  },
  {
   "cell_type": "markdown",
   "metadata": {},
   "source": [
    "# 1) 컴퓨터에서의 난수\n",
    "* 컴퓨터에서 생성되는 난수는 의사 난수로 조건과 입력에 따른 난수 알고리즘을 수행하여 생성 됨\n",
    "\n",
    "* 보통 난수 알고리즘은 확률 알고리즘을 사용하기 때문에, 표본이 작을 수록, 분포가 고르지 않음\n",
    "\n",
    "* 게임에서의 아이템 확률이나, MP3에서 랜덤 재생에서는, 기껏해야 수십 번에서 수백 번의 표본 수로는, 확률이 기대값과 일치하기가 어렵기 때문에, 같은 아이템, 같은 노래 순서가 나오는 것처럼 느끼게 됨\n",
    "\n",
    "* 난수 알고리즘의 입력으로는 SEED라는 임의의 수가 입력이 됨\n",
    "\n",
    "* 그래서, 이 SEED가 같다면, 난수 알고리즘은 같은 숫자 혹은 같은 패턴이 나타나게 됨.\n",
    "\n",
    "* 보통 SEED는 컴퓨터의 millisecond단위로 현재 시간이 입력이 되는데, 한 번 지나간 시간은 다시 돌아오지 않으므로, 매번 다른 값이 들어가게 됨\n",
    "\n",
    "# 2) 난수 함수\n",
    "\n",
    "* 각 언어 혹은 각 라이브러리에서 제공하는 난수 함수 중에서는, 난수의 범위에도 주의를 할 필요가 있음\n",
    "\n",
    "* 예를 들면 c언어에서 stdlib는 우분투환경에서, 1~2147483657의 범위에서 난수를 반환하는 함수가 있는데, 이를 10의 범위로 쪼갠다면, 균일하지 않은 확률 분포가 만들어짐\n",
    "\n",
    "* python의 random함수는 0~1사이의 소수를 반환하므로 위의 예보다는 균일한 확률 분포를 가질 수 있음\n",
    "\n",
    "# 3) 결론\n",
    "\n",
    "* 컴퓨터의 난수는 의사 난수로, 난수를 흉내내는 것이라고 할 수 도 있다.\n",
    "\n",
    "* 알고리즘 내에서 조건에 해당될 수 있는 무작위로 나열되는 숫자의 개수가 한정적이기 때문이다.\n",
    "\n",
    "* 이는 시간이 오래걸리지만, 예측이 가능 할 수 있다는 것을 의미한다.\n",
    "\n",
    "* 예측이 가능하다면, 난수의 성격을 잃는다고 볼 수 있지만, 그 무작위성이 응용 단계에서보다는 보통 크기 때문에, 난수의 역할을 아예 안 하는 것은 아니다.\n",
    "\n",
    "* 하지만, 로또 번호 추첨과 같이, 많은 사람들이 예민해 하는 것은 여전히 컴퓨터로 계산하고 있지는 않다.\n",
    "\n",
    "\n",
    "\n"
   ]
  }
 ],
 "metadata": {
  "kernelspec": {
   "display_name": "Python 2",
   "language": "python",
   "name": "python2"
  },
  "language_info": {
   "codemirror_mode": {
    "name": "ipython",
    "version": 2
   },
   "file_extension": ".py",
   "mimetype": "text/x-python",
   "name": "python",
   "nbconvert_exporter": "python",
   "pygments_lexer": "ipython2",
   "version": "2.7.11"
  }
 },
 "nbformat": 4,
 "nbformat_minor": 0
}
