{
 "cells": [
  {
   "cell_type": "markdown",
   "metadata": {},
   "source": [
    "# 트위터 게시글을 이용한, 정서 분석\n",
    "\n",
    "\n",
    "* 목차\n",
    "    1. 가설\n",
    "    2. 연구방법\n",
    "    3. 결론\n",
    "    \n",
    "\n",
    "\n",
    "\n",
    "\n",
    "    \n",
    "    "
   ]
  },
  {
   "cell_type": "markdown",
   "metadata": {},
   "source": [
    "## 1. 가설\n",
    "\n",
    "* 실험에 들어가기위한, 가설 세우기\n",
    "* 가설 : 나이브 베이시안 분류기로 트위터 게시물의 정서 파악에 도움이 된다.\n",
    "\n",
    "* 트위터의 게시물을 가져오기위한 키워드 정하기\n",
    "    * #Trump로 미국 대선에 대한 트윗을 가져옴\n",
    "    \n",
    "* #Trump를 키워드로 가져온 트윗이 Trump를 지지하는 내용이면 1, 그 내용이 아니라면 0으로 분류하기로 함"
   ]
  },
  {
   "cell_type": "markdown",
   "metadata": {},
   "source": [
    "## 2. 연구방법\n",
    "\n",
    "* 파이썬과 필요하다면, 라이브러리를 이용하여, 연구를 실시\n",
    "\n",
    "* 연구방법은 다음과 같은 절차를 따라감\n",
    "    * 2.1 데이터모으기\n",
    "    * 2.2 분류기 학습 및 테스트\n",
    "    * 2.3 실시간 테스트"
   ]
  },
  {
   "cell_type": "markdown",
   "metadata": {},
   "source": [
    "### 2.1 데이터 모으기\n",
    "\n",
    "\n",
    "* Twitter API사용\n",
    "    * 정확히는 wrapper API 사용\n",
    "    * 출처 : https://pypi.python.org/pypi/twitter#downloads\n",
    "    \n",
    "* 제공된 API기반으로 필요한 함수를 생성\n",
    "    <img src='../img/1.PNG' width=70% height=70%>\n",
    "* 총 500여개의 트윗을 저장\n",
    "    * 4월 23일 기준\n",
    "    <img src='../img/2.PNG' width=70% height=70%>\n",
    "    <img src='../img/3.PNG' width=70% height=70%>\n",
    "* 저장된 500여개의 트윗에는 중복된 트윗이 있어 필터링을 하였음\n",
    "    \n",
    "* 필터링하여 총 300여개의 트윗이 확보됨\n",
    "    * 300여개의 트윗이 Trump를 지지하는 내용이면 1, 아니라면 0을 할당\n",
    "    <img src='../img/4.PNG' width=70% height=70%>\n",
    "\n"
   ]
  },
  {
   "cell_type": "markdown",
   "metadata": {},
   "source": [
    "### 2.2 분류기 학습 및 테스트\n",
    "\n",
    "* 확보된 트윗은 문장 그 자체임\n",
    "* 문장 -> 단어 -> 단어 벡터로 변경할 필요가 있음\n",
    "* 또한, 출현 빈도는 높지만 의미가 없는 단어들, RT, a, an, ...등과 같은 단어는 count하지 않아야 함\n",
    "* #이나 @로 태그하는 것도 순수단어로 바꿔야 함\n",
    "    <img src='../img/5.PNG' width=70% height=70%>\n",
    "\n",
    "* 단어 벡터화와 나이브 베이시안 분류기는 머신러닝 인 액션에서 소개된 함수를 기반으로 변경하였음\n",
    "\n",
    "* 300개의 데이터 중에 90%는 학습, 10%는 테스트로 사용하였음\n",
    "* 실행할 때마다, 임의로 학습용과 테스트용으로 나눔"
   ]
  },
  {
   "cell_type": "code",
   "execution_count": 1,
   "metadata": {
    "collapsed": false
   },
   "outputs": [
    {
     "name": "stdout",
     "output_type": "stream",
     "text": [
      "0.654411764706\n",
      "the error rate is:  0.3\n"
     ]
    }
   ],
   "source": [
    "import sys\n",
    "sys.path.insert(0,\"..\\src\")\n",
    "#print sys.path\n",
    "import bayes\n",
    "reload(bayes)\n",
    "vocabList,p0V,p1V,p1=bayes.tweetTest()"
   ]
  },
  {
   "cell_type": "markdown",
   "metadata": {},
   "source": [
    "### 2.3 실시간 테스트\n",
    "* 생성된 분류기를 실시간으로 트위터를 가지고 와서, 테스트를 실시"
   ]
  },
  {
   "cell_type": "code",
   "execution_count": 3,
   "metadata": {
    "collapsed": false
   },
   "outputs": [
    {
     "name": "stdout",
     "output_type": "stream",
     "text": [
      "\n",
      "No.0 tweet has been classified as 0\n",
      "RT @Juliet777777: #Germany: Muslim Immigrants Sexually Harassing German Schoolgirls '..Under Age 10..' and Mayor B… https://t.co/0oOyeMHfLF…\n",
      "\n",
      "\n",
      "No.1 tweet has been classified as 0\n",
      "Video from #Trump camp advising supporters how to deal with protestors #hilarious #TrumpCT https://t.co/rKPBOsO588\n",
      "\n",
      "\n",
      "No.2 tweet has been classified as 1\n",
      "Green Acres https://t.co/qHIB13JBCq #Trump2016 #Trump https://t.co/JqYvq0Lcje\n",
      "\n",
      "\n",
      "No.3 tweet has been classified as 0\n",
      "Roger Stone: Even If #Trump Wins 1,237 Delegates, #Cruz Could Use \"Procedural\" Means To \"Take Away His Majority\"   https://t.co/3rVsvSdhnt\n",
      "\n",
      "\n",
      "No.4 tweet has been classified as 1\n",
      "RT @SupportDonald: Can't wait until the Tuesday primary results! I predict a smiling #Trump &amp; very depressed @BillKristol #Trump2016 https:…\n",
      "\n",
      "\n",
      "No.5 tweet has been classified as 0\n",
      "Not a Ted fan one bit BUT #Trump2016 always calling him lying Ted is like the pot calling the kettle black #Hypocritical #Trump is a CON😈MAN\n",
      "\n",
      "\n",
      "No.6 tweet has been classified as 1\n",
      "Hillary Clinton's Server Guy Gets Creative Again With Fifth Amendment \n",
      "https://t.co/1X45zT4uMf #trump #trump2016 https://t.co/NvEAhqKnRJ\n",
      "\n",
      "\n",
      "No.7 tweet has been classified as 0\n",
      "RT @CrainsNewYork: Sunday read: This was the deal that marked #Trump's pivot away from New York real estate  https://t.co/teB2zd32IQ https:…\n",
      "\n",
      "\n",
      "No.8 tweet has been classified as 0\n",
      "@chrissoria25 Do you think #Trump has chance to beat #Clinton? How will that impact bright future? Could it galvanize youth &amp; accelerate?\n",
      "\n",
      "\n",
      "No.9 tweet has been classified as 0\n",
      "Sunday read: This was the deal that marked #Trump's pivot away from New York real estate  https://t.co/Wx4ZXWyVWK https://t.co/Oy4Zw1H6jT\n",
      "\n",
      "\n",
      "No.10 tweet has been classified as 0\n",
      "RT @peacemaker4u: #Trump 2016. THE WALL.  AMERICA FIRST https://t.co/GV7uASjDpK\n",
      "\n",
      "\n",
      "No.11 tweet has been classified as 0\n",
      "RT @CrainsNewYork: Sunday read: This was the deal that marked #Trump's pivot away from New York real estate  https://t.co/teB2zd32IQ https:…\n",
      "\n",
      "\n",
      "No.12 tweet has been classified as 1\n",
      "RT @DaystoTrump: 198 Days to #Trump : Counting down to the election in November! #Trump2016 #TrumpTrain #VoteTrump #NYPrimary https://t.co/…\n",
      "\n",
      "\n",
      "No.13 tweet has been classified as 1\n",
      "It's dumb to say to a candidate \"you have no path to nomination. You should drop out\" Eventually they'll figure out and exit. #Trump\n",
      "\n",
      "\n",
      "No.14 tweet has been classified as 1\n",
      "RT @DaystoTrump: 198 Days to #Trump : Counting down to the election in November! #Trump2016 #TrumpTrain #MakeAmericaGreatAgain https://t.co…\n",
      "\n"
     ]
    }
   ],
   "source": [
    "import sys\n",
    "sys.path.insert(0,\"..\\src\")\n",
    "import MyTwitter\n",
    "reload(MyTwitter)\n",
    "x=MyTwitter.searchTweet(\"#Trump\")\n",
    "bayes.classifyArrNB(x,vocabList,p0V,p1V,p1)"
   ]
  },
  {
   "cell_type": "markdown",
   "metadata": {},
   "source": [
    "## 3. 결론\n",
    "* 분류기의 에러율은 최대 0.5에서 적게는 0.22까지 나옴\n",
    "* 책에서 사용한 분류기와 에러율이 비슷하다고 볼 수 있음\n",
    "* 가설 : 나이브 베이시안 분류기로 트위터 게시물의 정서 파악에 도움이 된다. 에 어느정도 적용할 수 있을거라고 기대함\n",
    "\n",
    "* 한계점\n",
    "    * 대선과는 관련없는 트윗이거나, 애매한 트윗 등을 0으로 분류함\n",
    "    * 이모티콘과 같은 것은 인식하지 못함\n",
    "    * 어느정도 타국의 벽의 문제가 있음"
   ]
  }
 ],
 "metadata": {
  "kernelspec": {
   "display_name": "Python 2",
   "language": "python",
   "name": "python2"
  },
  "language_info": {
   "codemirror_mode": {
    "name": "ipython",
    "version": 2
   },
   "file_extension": ".py",
   "mimetype": "text/x-python",
   "name": "python",
   "nbconvert_exporter": "python",
   "pygments_lexer": "ipython2",
   "version": "2.7.11"
  }
 },
 "nbformat": 4,
 "nbformat_minor": 0
}
