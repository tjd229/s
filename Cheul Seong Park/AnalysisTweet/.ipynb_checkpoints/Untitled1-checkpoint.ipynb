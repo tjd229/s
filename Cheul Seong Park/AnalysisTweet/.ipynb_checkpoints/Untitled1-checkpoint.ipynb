{
 "cells": [
  {
   "cell_type": "code",
   "execution_count": 1,
   "metadata": {
    "collapsed": false
   },
   "outputs": [],
   "source": [
    "def filltering():\n",
    "    path=\"twitter_data/tw.txt\"\n",
    "    \n",
    "    file=open(path)\n",
    "    twList=[]\n",
    "    i=0\n",
    "    for line in file.readlines():\n",
    "        #\n",
    "        if line not in twList:\n",
    "            twList.append(line)\n",
    "        \n",
    "    #print len(twList)\n",
    "    writer=open(\"twitter_data/ntw.txt\",'w')\n",
    "    for str in twList:\n",
    "        #print str\n",
    "        writer.write(str)\n",
    "    #print len(vocabSet)\n",
    "        \n",
    "        \n",
    "filltering()\n",
    "        \n",
    "    \n",
    "    "
   ]
  },
  {
   "cell_type": "code",
   "execution_count": 101,
   "metadata": {
    "collapsed": false
   },
   "outputs": [
    {
     "name": "stdout",
     "output_type": "stream",
     "text": [
      "0.654411764706\n",
      "the error rate is:  0.366666666667\n"
     ]
    }
   ],
   "source": [
    "import bayes\n",
    "reload(bayes)\n",
    "vocabList,p0V,p1V,p1=bayes.tweetTest()\n"
   ]
  },
  {
   "cell_type": "code",
   "execution_count": 107,
   "metadata": {
    "collapsed": false
   },
   "outputs": [
    {
     "name": "stdout",
     "output_type": "stream",
     "text": [
      "\n",
      "No.0 tweet has been classified as 1\n",
      "RT @1summerstar1: Natural AND REAL\n",
      "VOTE #Trump \n",
      "#Indiana #Pennsylvania #PennState #California #WestVirginia #NorthDakota #Primary  https://…\n",
      "\n",
      "\n",
      "No.1 tweet has been classified as 1\n",
      "FAKE and STAGED\n",
      "\n",
      "VOTE #Trump 🇺🇸\n",
      "#Indiana #Pennsylvania #PennState #California #WestVirginia #NorthDakota #Primary  https://t.co/sNW7Gfr7Yp\n",
      "\n",
      "\n",
      "No.2 tweet has been classified as 1\n",
      "RT @STRONG_OPED: THE GOP ESTABLISHMENT  INDEPENDENTS AND PROGRESSIVES  HATE #TRUMP  I BET THIS IS BECAUSE THEY REALLY FEAR HE CAN WIN\n",
      "\n",
      "\n",
      "No.3 tweet has been classified as 1\n",
      "Influence and Affluence -Insurgent Campaign Effect.... https://t.co/zsAuaU6NmR via @thelastrefuge2 @realDonaldTrump MUST READ HELP #trump\n",
      "\n",
      "\n",
      "No.4 tweet has been classified as 1\n",
      "#GOP Paul Manafort Is An Idiot Because #Trump2016 #Trump Only Hires the Best Idiots #CNN #News #NRA #MORON https://t.co/qK5gBXWSFx\n",
      "\n",
      "\n",
      "No.5 tweet has been classified as 0\n",
      "Les fusillades c une fois par semaine aux #USA ? Fallait pas armer ces mongoliens #NRA #Trump  https://t.co/Co6W29h8LK\n",
      "\n",
      "\n",
      "No.6 tweet has been classified as 1\n",
      "Natural AND REAL\n",
      "VOTE #Trump \n",
      "#Indiana #Pennsylvania #PennState #California #WestVirginia #NorthDakota #Primary  https://t.co/hKBTbkKb3O\n",
      "\n",
      "\n",
      "No.7 tweet has been classified as 1\n",
      "Donald Trump HUGE 8ft #TRUMP Banner Sign  #republican  #gop #rnc #sgp #tgdn https://t.co/IVLGOuXmo1\n",
      "\n",
      "\n",
      "No.8 tweet has been classified as 1\n",
      "RT @CaliforniaGOP45: U.S. Representative Tom Reed Endorses Donald Trump for President #CA https://t.co/FYoMYt8zJ1 #Trump #Sacramento  #IN h…\n",
      "\n",
      "\n",
      "No.9 tweet has been classified as 1\n",
      "#TedCruz LASHES OUT at Media After He's Told He Can't Mathematically win https://t.co/5vQ4HU8KdX @YouTube #Trump #VoteTrump #DE #RI #PA #MD\n",
      "\n",
      "\n",
      "No.10 tweet has been classified as 1\n",
      "RT @KLSouth: #Trump will protect us! Coming to America! Uncivilized Muslim deviants. https://t.co/G6S5PIgTDW https://t.co/kHDY8I9j84 h/t @d…\n",
      "\n",
      "\n",
      "No.11 tweet has been classified as 1\n",
      "RT @PastorOmayra: 🚂🚂🚂💨💨\n",
      "TUE 26 VOTE\n",
      "#TRUMP\n",
      "#CT\n",
      "#PA\n",
      "#MD\n",
      "#DE\n",
      "#RI\n",
      "#CA\n",
      "#TedCruz Wolf in Sheep #Christian Clothing \n",
      "https://t.co/BrWf4vDgoZ http…\n",
      "\n",
      "\n",
      "No.12 tweet has been classified as 1\n",
      "RT @MerkelsEurabia: #EU #Merkel #Brexit #VoteLeave #BetterOffOut #No2EU #NoToEU #LoveEuropeHateEU #Trump #MakeAmericaGreatAgain #MAGA https…\n",
      "\n",
      "\n",
      "No.13 tweet has been classified as 1\n",
      "No #GOP voting for #HRC, so abstain or hold nose &amp; vote #Trump\n",
      "#Dem diehards vote #HRC\n",
      "Best back #Bernie https://t.co/Ht2n1R9APH\n",
      "\n",
      "\n",
      "No.14 tweet has been classified as 0\n",
      "Political Insider https://t.co/rJHThnA3jz via @YouTube #Trump #Clinton #GOP #Politics #Elections #Cruz #Kasich #2016 #Donald #Politics #USA\n",
      "\n"
     ]
    }
   ],
   "source": [
    "import bayes\n",
    "reload(bayes)\n",
    "#bayes.getTopWords1()\n",
    "from twitter import *\n",
    "\n",
    "token=\"2373074766-PL14cizo2IrNPcvcUI25kdi7KjZQMAdRnNx2SPN\"\n",
    "token_key=\"VKTOHImjOvE4Kp8ECj3T11zzorHuwxUImNnfWGuuVIaK9\"\n",
    "con_secret=\"NIM6wPYiI2S4rCRkAPZUpaCpa\"\n",
    "con_secret_key=\"R8a6YSb4yf77X27emnGcI9hKdYYAEDbSqK08ocg6s5Vz9yLnr6\"\n",
    "\n",
    "t = Twitter(\n",
    "auth=OAuth(token, token_key, con_secret, con_secret_key))\n",
    "\n",
    "\n",
    "x=t.search.tweets(q=\"#Trump\")\n",
    "bayes.classifyArrNB(x['statuses'],vocabList,p0V,p1V,p1)\n",
    "#print writingTxt(txt,x['statuses'])   "
   ]
  }
 ],
 "metadata": {
  "kernelspec": {
   "display_name": "Python 2",
   "language": "python",
   "name": "python2"
  },
  "language_info": {
   "codemirror_mode": {
    "name": "ipython",
    "version": 2
   },
   "file_extension": ".py",
   "mimetype": "text/x-python",
   "name": "python",
   "nbconvert_exporter": "python",
   "pygments_lexer": "ipython2",
   "version": "2.7.11"
  }
 },
 "nbformat": 4,
 "nbformat_minor": 0
}
