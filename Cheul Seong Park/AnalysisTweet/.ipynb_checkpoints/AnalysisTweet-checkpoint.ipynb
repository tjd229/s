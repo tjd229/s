{
 "cells": [
  {
   "cell_type": "markdown",
   "metadata": {},
   "source": [
    "# 트위터 게시글을 이용한, 정서 분석\n",
    "\n",
    "\n",
    "* 목차\n",
    "    1. 가설\n",
    "    2. 연구방법\n",
    "    3. 결론\n",
    "    \n",
    "\n",
    "\n",
    "\n",
    "\n",
    "    \n",
    "    "
   ]
  },
  {
   "cell_type": "markdown",
   "metadata": {},
   "source": [
    "## 1. 가설\n",
    "\n",
    "* 실험에 들어가기위한, 가설 세우기\n",
    "* 가설 : 나이브 베이시안 분류기로 트위터 게시물의 정서 파악에 도움이 된다.\n",
    "\n",
    "* 트위터의 게시물을 가져오기위한 키워드 정하기\n",
    "    * #Trump로 미국 대선에 대한 트윗을 가져옴\n",
    "    \n",
    "* #Trump를 키워드로 가져온 트윗이 Trump를 지지하는 내용이면 1, 그 내용이 아니라면 0으로 분류하기로 함"
   ]
  },
  {
   "cell_type": "markdown",
   "metadata": {},
   "source": [
    "## 2. 연구방법\n",
    "\n",
    "* 파이썬과 필요하다면, 라이브러리를 이용하여, 연구를 실시\n",
    "\n",
    "* 연구방법은 다음과 같은 절차를 따라감\n",
    "    * 2.1 데이터모으기\n",
    "    * 2.2 분류기 학습 및 테스트\n",
    "    * 2.3 실시간 테스트"
   ]
  },
  {
   "cell_type": "markdown",
   "metadata": {},
   "source": [
    "### 2.1 데이터 모으기\n",
    "\n",
    "* Twitter API사용\n",
    "    * 정확히는 wrapper API 사용\n",
    "    * 출처 : https://pypi.python.org/pypi/twitter#downloads\n",
    "    \n",
    "* 제공된 API기반으로 필요한 함수를 생성\n",
    "* 총 500여개의 트윗을 저장\n",
    "    * 4월 23일 기준\n",
    "* 저장된 500여개의 트윗에는 중복된 트윗이 있어 필터링을 하였음\n",
    "* 필터링하여 총 300여개의 트윗이 확보됨\n",
    "    * 300여개의 트윗이 Trump를 지지하는 내용이면 1, 아니라면 0을 할당\n",
    "\n"
   ]
  },
  {
   "cell_type": "markdown",
   "metadata": {},
   "source": [
    "### 2.2 분류기 학습 및 테스트\n",
    "\n",
    "* 확보된 트윗은 문장 그 자체임\n",
    "* 문장 -> 단어 -> 단어 벡터로 변경할 필요가 있음\n",
    "* 또한, 출현 빈도는 높지만 의미가 없는 단어들, RT, a, an, ...등과 같은 단어는 count하지 않아야 함\n",
    "* #이나 @로 태그하는 것도 순수단어로 바꿔야 함\n",
    "\n",
    "* 단어 벡터화와 나이브 베이시안 분류기는 머신러닝 인 액션에서 소개된 함수를 기반으로 변경하였음\n",
    "\n",
    "* 300개의 데이터 중에 90%는 학습, 10%는 테스트로 사용하였음\n",
    "* 실행할 때마다, 임의로 학습용과 테스트용으로 나눔"
   ]
  },
  {
   "cell_type": "markdown",
   "metadata": {},
   "source": [
    "### 2.3 실시간 테스트\n",
    "* 생성된 분류기를 실시간으로 트위터를 가지고 와서, 테스트를 실시"
   ]
  }
 ],
 "metadata": {
  "kernelspec": {
   "display_name": "Python 2",
   "language": "python",
   "name": "python2"
  },
  "language_info": {
   "codemirror_mode": {
    "name": "ipython",
    "version": 2
   },
   "file_extension": ".py",
   "mimetype": "text/x-python",
   "name": "python",
   "nbconvert_exporter": "python",
   "pygments_lexer": "ipython2",
   "version": "2.7.11"
  }
 },
 "nbformat": 4,
 "nbformat_minor": 0
}
