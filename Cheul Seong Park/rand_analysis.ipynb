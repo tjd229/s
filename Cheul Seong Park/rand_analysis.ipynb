{
 "cells": [
  {
   "cell_type": "markdown",
   "metadata": {},
   "source": [
    "# 파이썬 난수 프로그램 검증\n",
    "\n",
    "* random.random()을 사용하여, 출력되는 난수의 히스토그램을 보여주는 프로그램 작성\n",
    "\n",
    "* 검증법은 카이제곱 적합도 검증법을 사용\n",
    "\n",
    "* 귀무가설 : 발생된 난수의 히스토그램 수치는 오차수준 5%이내에서 거의 동일하다.\n",
    "* 대립가설 : 발생된 난수의 히스토그램 수치는 오차수준이 5%가 넘는다.\n",
    "\n",
    "* random.random()은 반환값이 소수이므로, k를 곱한 후 interger casting으로 정수화를 함.\n",
    "    * k는 0~1을 k구간으로 나눈 것을 의미\n",
    "    \n",
    "* 총 4번의 실험을 실시\n",
    "    * Case 1 : k=2, N=1000\n",
    "    * Case 2 : k=2, N=1000000\n",
    "    * Case 3 : k=10, N=1000\n",
    "    * Case 4 : k=10, N=1000000\n",
    "    \n",
    "    * Case 3의 의미는 0~9까지 10개의 숫자를 1000번 난수 출력하였을 때를 의미함\n",
    "    \n",
    "* 카이제곱 \n",
    "    x^2=\n",
    "* 기대값\n",
    "    E=N/k\n",
    "* 자유도 = k-1\n",
    "    * Case 1,2 : 1\n",
    "    * Case 3,4 : 9\n",
    "* 기각치(유의수준 5%)\n",
    "    * Case 1,2 : 3.84\n",
    "    * Case 3,4 : 16.92\n",
    "    \n",
    "* 카이제곱 값 반환 함수 구현\n",
    "    "
   ]
  },
  {
   "cell_type": "code",
   "execution_count": 33,
   "metadata": {
    "collapsed": true
   },
   "outputs": [],
   "source": [
    "def chisq(arr,k,N,E):\n",
    "    sum=0.0\n",
    "    for a in arr:\n",
    "        sum+=((a-E)**2)/float(E)\n",
    "\n",
    "    return sum\n",
    "    "
   ]
  },
  {
   "cell_type": "markdown",
   "metadata": {},
   "source": [
    "## Case 1\n",
    "* 0~1 1000개의 난수 생성\n",
    "* 그래프는 난수에 의해 생성된 0~1이 몇 개인지를 나타냄"
   ]
  },
  {
   "cell_type": "code",
   "execution_count": 44,
   "metadata": {
    "collapsed": false
   },
   "outputs": [
    {
     "name": "stdout",
     "output_type": "stream",
     "text": [
      "[496, 504]\n"
     ]
    },
    {
     "data": {
      "image/png": "[encoded data removed]",
      "text/plain": [
       "<matplotlib.figure.Figure at 0x6ee4748>"
      ]
     },
     "metadata": {},
     "output_type": "display_data"
    }
   ],
   "source": [
    "import random\n",
    "import numpy as np\n",
    "import matplotlib\n",
    "import matplotlib.pyplot as plt\n",
    "%matplotlib inline\n",
    "\n",
    "a=[]\n",
    "N=1000\n",
    "k=2\n",
    "p=3.84\n",
    "sum=0\n",
    "sd=0\n",
    "for i in range(k):\n",
    "    a.append(0)\n",
    "for i in range(N):\n",
    "    n=int(random.random()*k)\n",
    "    a[n]+=1\n",
    "    \n",
    "for i in range(k):\n",
    "    sum+=a[i]\n",
    "sum/=k\n",
    "\n",
    "for i in range(k):\n",
    "    sd+=(a[i]-sum)**2\n",
    "sd/=k\n",
    "sd=sd**0.5\n",
    "\n",
    "print a\n",
    "\n",
    "##fig=plt.figure()\n",
    "arr=np.arange(k)\n",
    "plt.plot(arr,a)\n",
    "plt.axis([-1,2,460,550])\n",
    "plt.show()\n",
    "#print \"Standard deviation: %f\"%sd"
   ]
  },
  {
   "cell_type": "markdown",
   "metadata": {},
   "source": [
    "* 카이제곱 구하기"
   ]
  },
  {
   "cell_type": "code",
   "execution_count": 45,
   "metadata": {
    "collapsed": false
   },
   "outputs": [
    {
     "name": "stdout",
     "output_type": "stream",
     "text": [
      "chi-sq is 0.064\n",
      "귀무가설 성립\n"
     ]
    }
   ],
   "source": [
    "chi2 = chisq(a,k,N,int(N/k))\n",
    "print \"chi-sq is %.3f\"%chi2\n",
    "if chi2>p: print \"대립가설 성립\"\n",
    "else: print \"귀무가설 성립\""
   ]
  },
  {
   "cell_type": "markdown",
   "metadata": {},
   "source": [
    "## Case 2\n",
    "* 0~1 1000000개의 난수 생성\n",
    "* 그래프는 난수에 의해 생성된 0~1이 몇 개인지를 나타냄"
   ]
  },
  {
   "cell_type": "code",
   "execution_count": 52,
   "metadata": {
    "collapsed": false
   },
   "outputs": [
    {
     "name": "stdout",
     "output_type": "stream",
     "text": [
      "[500478, 499522]\n"
     ]
    },
    {
     "data": {
      "image/png": "[encoded data removed]",
      "text/plain": [
       "<matplotlib.figure.Figure at 0x6ed0940>"
      ]
     },
     "metadata": {},
     "output_type": "display_data"
    }
   ],
   "source": [
    "import random\n",
    "import numpy as np\n",
    "import matplotlib\n",
    "import matplotlib.pyplot as plt\n",
    "%matplotlib inline\n",
    "\n",
    "a=[]\n",
    "N=1000000\n",
    "k=2\n",
    "p=3.84\n",
    "sum=0\n",
    "sd=0\n",
    "for i in range(k):\n",
    "    a.append(0)\n",
    "for i in range(N):\n",
    "    n=int(random.random()*k)\n",
    "    a[n]+=1\n",
    "    \n",
    "for i in range(k):\n",
    "    sum+=a[i]\n",
    "sum/=10\n",
    "\n",
    "for i in range(k):\n",
    "    sd+=(a[i]-sum)**2\n",
    "sd/=k\n",
    "sd=sd**0.5\n",
    "\n",
    "print a\n",
    "\n",
    "##fig=plt.figure()\n",
    "arr=np.arange(k)\n",
    "plt.plot(arr,a)\n",
    "plt.axis([-1,2,490000,510000])\n",
    "plt.show()\n",
    "#print \"Standard deviation: %f\"%sd"
   ]
  },
  {
   "cell_type": "markdown",
   "metadata": {},
   "source": [
    "* 카이제곱 구하기"
   ]
  },
  {
   "cell_type": "code",
   "execution_count": 53,
   "metadata": {
    "collapsed": false
   },
   "outputs": [
    {
     "name": "stdout",
     "output_type": "stream",
     "text": [
      "chi-sq is 0.914\n",
      "귀무가설 성립\n"
     ]
    }
   ],
   "source": [
    "chi2 = chisq(a,k,N,int(N/k))\n",
    "print \"chi-sq is %.3f\"%chi2\n",
    "if chi2>p: print \"대립가설 성립\"\n",
    "else: print \"귀무가설 성립\""
   ]
  },
  {
   "cell_type": "markdown",
   "metadata": {},
   "source": [
    "## Case 3\n",
    "* 0~9 1000개의 난수 생성\n",
    "* 그래프는 난수에 의해 생성된 0~9가 몇 개인지를 나타냄"
   ]
  },
  {
   "cell_type": "code",
   "execution_count": 48,
   "metadata": {
    "collapsed": false
   },
   "outputs": [
    {
     "name": "stdout",
     "output_type": "stream",
     "text": [
      "[81, 84, 111, 118, 98, 110, 112, 104, 86, 96]\n"
     ]
    },
    {
     "data": {
      "image/png": "[encoded data removed]",
      "text/plain": [
       "<matplotlib.figure.Figure at 0x7a12eb8>"
      ]
     },
     "metadata": {},
     "output_type": "display_data"
    }
   ],
   "source": [
    "import random\n",
    "import numpy as np\n",
    "import matplotlib\n",
    "import matplotlib.pyplot as plt\n",
    "%matplotlib inline\n",
    "\n",
    "a=[]\n",
    "N=1000\n",
    "k=10\n",
    "p=16.92\n",
    "sum=0\n",
    "sd=0\n",
    "for i in range(k):\n",
    "    a.append(0)\n",
    "for i in range(N):\n",
    "    n=int(random.random()*k)\n",
    "    a[n]+=1\n",
    "    \n",
    "for i in range(k):\n",
    "    sum+=a[i]\n",
    "sum/=k\n",
    "\n",
    "for i in range(k):\n",
    "    sd+=(a[i]-sum)**2\n",
    "sd/=k\n",
    "sd=sd**0.5\n",
    "\n",
    "print a\n",
    "\n",
    "##fig=plt.figure()\n",
    "arr=np.arange(k)\n",
    "plt.plot(arr,a)\n",
    "#plt.axis([-1,2,460,550])\n",
    "plt.show()\n",
    "#print \"Standard deviation: %f\"%sd"
   ]
  },
  {
   "cell_type": "markdown",
   "metadata": {},
   "source": [
    "* 카이제곱 구하기"
   ]
  },
  {
   "cell_type": "code",
   "execution_count": 49,
   "metadata": {
    "collapsed": false
   },
   "outputs": [
    {
     "name": "stdout",
     "output_type": "stream",
     "text": [
      "chi-sq is 15.380\n",
      "귀무가설 성립\n"
     ]
    }
   ],
   "source": [
    "chi2 = chisq(a,k,N,int(N/k))\n",
    "print \"chi-sq is %.3f\"%chi2\n",
    "if chi2>p: print \"대립가설 성립\"\n",
    "else: print \"귀무가설 성립\""
   ]
  },
  {
   "cell_type": "markdown",
   "metadata": {},
   "source": [
    "## Case 4\n",
    "* 0~9 1,000,000개 난수 생성\n",
    "* 그래프는 난수에 의해 생성된 0~9가 몇 개인지를 나타냄"
   ]
  },
  {
   "cell_type": "code",
   "execution_count": 50,
   "metadata": {
    "collapsed": false
   },
   "outputs": [
    {
     "name": "stdout",
     "output_type": "stream",
     "text": [
      "[99980, 99814, 100130, 100311, 99373, 100249, 100114, 99976, 100042, 100011]\n"
     ]
    },
    {
     "data": {
      "image/png": "[encoded data removed]",
      "text/plain": [
       "<matplotlib.figure.Figure at 0x7870c18>"
      ]
     },
     "metadata": {},
     "output_type": "display_data"
    }
   ],
   "source": [
    "import random\n",
    "import numpy as np\n",
    "import matplotlib\n",
    "import matplotlib.pyplot as plt\n",
    "%matplotlib inline\n",
    "\n",
    "a=[]\n",
    "N=1000000\n",
    "k=10\n",
    "p=16.92\n",
    "sum=0\n",
    "sd=0\n",
    "for i in range(k):\n",
    "    a.append(0)\n",
    "for i in range(N):\n",
    "    n=int(random.random()*k)\n",
    "    a[n]+=1\n",
    "    \n",
    "for i in range(k):\n",
    "    sum+=a[i]\n",
    "sum/=k\n",
    "\n",
    "for i in range(k):\n",
    "    sd+=(a[i]-sum)**2\n",
    "sd/=k\n",
    "sd=sd**0.5\n",
    "\n",
    "print a\n",
    "\n",
    "##fig=plt.figure()\n",
    "arr=np.arange(k)\n",
    "plt.plot(arr,a)\n",
    "#plt.axis([-1,2,460,550])\n",
    "plt.axis([0,10,90000,110000])\n",
    "plt.show()\n",
    "#print \"Standard deviation: %f\"%sd"
   ]
  },
  {
   "cell_type": "markdown",
   "metadata": {},
   "source": [
    "* 카이제곱 구하기"
   ]
  },
  {
   "cell_type": "code",
   "execution_count": 51,
   "metadata": {
    "collapsed": false
   },
   "outputs": [
    {
     "name": "stdout",
     "output_type": "stream",
     "text": [
      "chi-sq is 6.192\n",
      "귀무가설 성립\n"
     ]
    }
   ],
   "source": [
    "chi2 = chisq(a,k,N,int(N/k))\n",
    "print \"chi-sq is %.3f\"%chi2\n",
    "if chi2>p: print \"대립가설 성립\"\n",
    "else: print \"귀무가설 성립\""
   ]
  },
  {
   "cell_type": "markdown",
   "metadata": {},
   "source": [
    "## 결론\n",
    "* 4가지 실험 케이스에서는 오차범위 5%이내에서 난수 분포가 동일하다는걸 검증하고 있음.\n",
    "* 컴퓨터에서의 난수는 의사 난수로 진정한 난수라고는 할 수 없지만, 본 케이스에서는 동일하게 나옴.\n",
    "* 그러한 이유를 몇가지 분석해 보면,\n",
    "    * 난수란, 예측할 수 없는 숫자의 열이라 할 수 있는데,\n",
    "    * 컴퓨터에서의 난수는 아주 긴 주기를 가지고 있는 규칙적인 숫자의 열\n",
    "    * 즉, 본 실험에서으 주기가 아주 짧은 편에 속하기 때문에, 균일하게 나옴"
   ]
  },
  {
   "cell_type": "markdown",
   "metadata": {},
   "source": [
    "## 난수에 관한 추가적인 자료\n",
    "### 1) 컴퓨터에서의 난수\n",
    "* 컴퓨터에서 생성되는 난수는 의사 난수로 조건과 입력에 따른 난수 알고리즘을 수행하여 생성 됨\n",
    "\n",
    "* 보통 난수 알고리즘은 확률 알고리즘을 사용하기 때문에, 표본이 작을 수록, 분포가 고르지 않음\n",
    "\n",
    "* 게임에서의 아이템 확률이나, MP3에서 랜덤 재생에서는, 기껏해야 수십 번에서 수백 번의 표본 수로는, 확률이 기대값과 일치하기가 어렵기 때문에, 같은 아이템, 같은 노래 순서가 나오는 것처럼 느끼게 됨\n",
    "\n",
    "* 난수 알고리즘의 입력으로는 SEED라는 임의의 수가 입력이 됨\n",
    "\n",
    "* 그래서, 이 SEED가 같다면, 난수 알고리즘은 같은 숫자 혹은 같은 패턴이 나타나게 됨.\n",
    "\n",
    "* 보통 SEED는 컴퓨터의 millisecond단위로 현재 시간이 입력이 되는데, 한 번 지나간 시간은 다시 돌아오지 않으므로, 매번 다른 값이 들어가게 됨\n",
    "\n",
    "### 2) 난수 함수\n",
    "\n",
    "* 각 언어 혹은 각 라이브러리에서 제공하는 난수 함수 중에서는, 난수의 범위에도 주의를 할 필요가 있음\n",
    "\n",
    "* 예를 들면 c언어에서 stdlib는 우분투환경에서, 1~2147483657의 범위에서 난수를 반환하는 함수가 있는데, 이를 10의 범위로 쪼갠다면, 균일하지 않은 확률 분포가 만들어짐\n",
    "\n",
    "* python의 random함수는 0~1사이의 소수를 반환하므로 위의 예보다는 균일한 확률 분포를 가질 수 있음\n",
    "\n",
    "### 3) 정리\n",
    "\n",
    "* 컴퓨터의 난수는 의사 난수로, 난수를 흉내내는 것이라고 할 수 도 있다.\n",
    "\n",
    "* 알고리즘 내에서 조건에 해당될 수 있는 무작위로 나열되는 숫자의 개수가 한정적이기 때문이다.\n",
    "\n",
    "* 이는 시간이 오래걸리지만, 예측이 가능 할 수 있다는 것을 의미한다.\n",
    "\n",
    "* 예측이 가능하다면, 난수의 성격을 잃는다고 볼 수 있지만, 그 무작위성이 응용 단계에서보다는 보통 크기 때문에, 난수의 역할을 아예 안 하는 것은 아니다.\n",
    "\n",
    "* 하지만, 로또 번호 추첨과 같이, 많은 사람들이 예민해 하는 것은 여전히 컴퓨터로 계산하고 있지는 않다.\n",
    "\n",
    "\n",
    "\n",
    "출처 : 네이버캐스트(난수, 양자난수, 의사난수)"
   ]
  }
 ],
 "metadata": {
  "kernelspec": {
   "display_name": "Python 2",
   "language": "python",
   "name": "python2"
  },
  "language_info": {
   "codemirror_mode": {
    "name": "ipython",
    "version": 2
   },
   "file_extension": ".py",
   "mimetype": "text/x-python",
   "name": "python",
   "nbconvert_exporter": "python",
   "pygments_lexer": "ipython2",
   "version": "2.7.11"
  }
 },
 "nbformat": 4,
 "nbformat_minor": 0
}
