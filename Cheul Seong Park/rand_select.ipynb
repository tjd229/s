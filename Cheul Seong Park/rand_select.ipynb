{
 "cells": [
  {
   "cell_type": "code",
   "execution_count": 9,
   "metadata": {
    "collapsed": false
   },
   "outputs": [],
   "source": [
    "import random\n",
    "def rand_select(arr):\n",
    "    length=len(arr)\n",
    "    return arr[int(random.random()*length)]\n",
    "\n",
    "a=[\"\"]\n",
    "#a=[\"박철성\",\"변성우\"]\n",
    "#a=[\"변성우\",\"박철성\"]\n",
    "print \"발표자 %s\"%rand_select(a)\n",
    "    "
   ]
  }
 ],
 "metadata": {
  "kernelspec": {
   "display_name": "Python 2",
   "language": "python",
   "name": "python2"
  },
  "language_info": {
   "codemirror_mode": {
    "name": "ipython",
    "version": 2
   },
   "file_extension": ".py",
   "mimetype": "text/x-python",
   "name": "python",
   "nbconvert_exporter": "python",
   "pygments_lexer": "ipython2",
   "version": "2.7.11"
  }
 },
 "nbformat": 4,
 "nbformat_minor": 0
}
